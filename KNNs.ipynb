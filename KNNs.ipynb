{
 "cells": [
  {
   "cell_type": "code",
   "execution_count": 1,
   "id": "064e59be-085e-4afb-b672-bf05511006be",
   "metadata": {},
   "outputs": [],
   "source": [
    "#importing libraries\n",
    "import numpy as np\n",
    "from collections import Counter"
   ]
  },
  {
   "cell_type": "code",
   "execution_count": 2,
   "id": "54ca6043-33f7-4c89-b402-509a5ad25e54",
   "metadata": {},
   "outputs": [],
   "source": [
    "#function to calculate euclideam distance\n",
    "def euclidean_distance(point1, point2):\n",
    "    return np.sqrt(np.sum((np.array(point1) - np.array(point2))**2))"
   ]
  },
  {
   "cell_type": "code",
   "execution_count": 3,
   "id": "be5431b8-3f08-4469-bf12-2964efd3d21f",
   "metadata": {},
   "outputs": [],
   "source": [
    "#distances.append saves how far each training point is from the test point, along with its label.\n",
    "#distances.sort is used to sorts the list so the nearest points come first.\n",
    "#k_nearest_labels picks the labels of the k closest points.\n",
    "def knn_predict(training_data, training_labels, test_point, k):\n",
    "    distances = []\n",
    "    for i in range(len(training_data)):\n",
    "        dist = euclidean_distance(test_point, training_data[i])\n",
    "        distances.append((dist, training_labels[i]))\n",
    "    distances.sort(key=lambda x: x[0])\n",
    "    k_nearest_labels = [label for _, label in distances[:k]]\n",
    "    return Counter(k_nearest_labels).most_common(1)[0][0]"
   ]
  },
  {
   "cell_type": "code",
   "execution_count": null,
   "id": "4a833c9e-f76f-4620-a86c-9643638a2561",
   "metadata": {},
   "outputs": [],
   "source": [
    "#Training data and labels\n"
   ]
  }
 ],
 "metadata": {
  "kernelspec": {
   "display_name": "Python 3 (ipykernel)",
   "language": "python",
   "name": "python3"
  },
  "language_info": {
   "codemirror_mode": {
    "name": "ipython",
    "version": 3
   },
   "file_extension": ".py",
   "mimetype": "text/x-python",
   "name": "python",
   "nbconvert_exporter": "python",
   "pygments_lexer": "ipython3",
   "version": "3.12.7"
  }
 },
 "nbformat": 4,
 "nbformat_minor": 5
}
