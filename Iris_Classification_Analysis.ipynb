{
 "cells": [
  {
   "cell_type": "code",
   "execution_count": 1,
   "id": "3f28c700-f2a8-4a21-9122-3b87bbec8fe5",
   "metadata": {},
   "outputs": [],
   "source": [
    "from sklearn.datasets import load_iris #load the iris data as a dictionary-like object(Bunch)\n",
    "iris_dataset = load_iris()"
   ]
  },
  {
   "cell_type": "code",
   "execution_count": 5,
   "id": "ca468b2f-3b03-4756-869d-6cfb2de3f9ef",
   "metadata": {},
   "outputs": [
    {
     "name": "stdout",
     "output_type": "stream",
     "text": [
      "Keys of iris_dataset: \n",
      "dict_keys(['data', 'target', 'frame', 'target_names', 'DESCR', 'feature_names', 'filename', 'data_module'])\n"
     ]
    }
   ],
   "source": [
    "print(\"Keys of iris_dataset: \\n{}\".format(iris_dataset.keys())) #prints the keys"
   ]
  },
  {
   "cell_type": "code",
   "execution_count": 7,
   "id": "0450c349-16ba-43c9-8ce9-8a84e6a60574",
   "metadata": {},
   "outputs": [
    {
     "name": "stdout",
     "output_type": "stream",
     "text": [
      ".. _iris_dataset:\n",
      "\n",
      "Iris plants dataset\n",
      "--------------------\n",
      "\n",
      "**Data Set Characteristics:**\n",
      "\n",
      ":Number of Instances: 150 (50 in each of three classes)\n",
      ":Number of Attributes: 4 numeric, predictive \n",
      "...\n"
     ]
    }
   ],
   "source": [
    "print(iris_dataset['DESCR'][:193] + \"\\n...\") #DESCR is the key that describes the dataset"
   ]
  },
  {
   "cell_type": "code",
   "execution_count": 8,
   "id": "d5ad9698-dbec-47b4-b565-d34fc803e7b9",
   "metadata": {},
   "outputs": [
    {
     "name": "stdout",
     "output_type": "stream",
     "text": [
      "Target names: ['setosa' 'versicolor' 'virginica']\n"
     ]
    }
   ],
   "source": [
    "print(\"Target names: {}\".format(iris_dataset['target_names'])) #types of species"
   ]
  },
  {
   "cell_type": "code",
   "execution_count": 9,
   "id": "93e415dd-8341-4f64-a5ef-09b97515112c",
   "metadata": {},
   "outputs": [
    {
     "name": "stdout",
     "output_type": "stream",
     "text": [
      "Feature names: \n",
      "['sepal length (cm)', 'sepal width (cm)', 'petal length (cm)', 'petal width (cm)']\n"
     ]
    }
   ],
   "source": [
    "print(\"Feature names: \\n{}\".format(iris_dataset['feature_names'])) #features of the flower"
   ]
  },
  {
   "cell_type": "code",
   "execution_count": 10,
   "id": "6fd94c84-4c56-4e61-b4eb-56eca9da4244",
   "metadata": {},
   "outputs": [
    {
     "name": "stdout",
     "output_type": "stream",
     "text": [
      "Type of data: <class 'numpy.ndarray'>\n"
     ]
    }
   ],
   "source": [
    "print(\"Type of data: {}\".format(type(iris_dataset['data']))) #numeric data is an array in numpy, rows are flowers and columns are 4 measurements"
   ]
  },
  {
   "cell_type": "code",
   "execution_count": 11,
   "id": "a178929a-b9af-44e1-b703-e26c3311479a",
   "metadata": {},
   "outputs": [
    {
     "name": "stdout",
     "output_type": "stream",
     "text": [
      "Shape of data: (150, 4)\n"
     ]
    }
   ],
   "source": [
    "print(\"Shape of data: {}\".format(iris_dataset['data'].shape))"
   ]
  },
  {
   "cell_type": "code",
   "execution_count": 13,
   "id": "7c61ec35-7d92-47c2-aa1e-435655301a2f",
   "metadata": {},
   "outputs": [
    {
     "name": "stdout",
     "output_type": "stream",
     "text": [
      "First five columns of data:\n",
      "[[5.1 3.5 1.4 0.2]\n",
      " [4.9 3.  1.4 0.2]\n",
      " [4.7 3.2 1.3 0.2]\n",
      " [4.6 3.1 1.5 0.2]\n",
      " [5.  3.6 1.4 0.2]]\n"
     ]
    }
   ],
   "source": [
    "print(\"First five columns of data:\\n{}\".format(iris_dataset['data'][:5])) #data of first 5 samples"
   ]
  },
  {
   "cell_type": "code",
   "execution_count": 15,
   "id": "2c8f9d05-07d1-4e89-a6c9-0b5e048a3f64",
   "metadata": {},
   "outputs": [
    {
     "name": "stdout",
     "output_type": "stream",
     "text": [
      "Type of target: <class 'numpy.ndarray'>\n"
     ]
    }
   ],
   "source": [
    "print(\"Type of target: {}\".format(type(iris_dataset['target']))) #target array is also a numpy array"
   ]
  },
  {
   "cell_type": "code",
   "execution_count": 17,
   "id": "b5a2e981-e0af-4e60-9d96-e79dd8a6eee3",
   "metadata": {},
   "outputs": [
    {
     "name": "stdout",
     "output_type": "stream",
     "text": [
      "Shape of target: (150,)\n"
     ]
    }
   ],
   "source": [
    "print(\"Shape of target: {}\".format(iris_dataset['target'].shape)) #1D array"
   ]
  },
  {
   "cell_type": "code",
   "execution_count": 18,
   "id": "971087f6-a3df-43a9-96e0-0d40b9af901d",
   "metadata": {},
   "outputs": [
    {
     "name": "stdout",
     "output_type": "stream",
     "text": [
      "Target:\n",
      "[0 0 0 0 0 0 0 0 0 0 0 0 0 0 0 0 0 0 0 0 0 0 0 0 0 0 0 0 0 0 0 0 0 0 0 0 0\n",
      " 0 0 0 0 0 0 0 0 0 0 0 0 0 1 1 1 1 1 1 1 1 1 1 1 1 1 1 1 1 1 1 1 1 1 1 1 1\n",
      " 1 1 1 1 1 1 1 1 1 1 1 1 1 1 1 1 1 1 1 1 1 1 1 1 1 1 2 2 2 2 2 2 2 2 2 2 2\n",
      " 2 2 2 2 2 2 2 2 2 2 2 2 2 2 2 2 2 2 2 2 2 2 2 2 2 2 2 2 2 2 2 2 2 2 2 2 2\n",
      " 2 2]\n"
     ]
    }
   ],
   "source": [
    "print(\"Target:\\n{}\".format(iris_dataset['target'])) #species is encoded from 0 to 2 since 3 types of species"
   ]
  },
  {
   "cell_type": "code",
   "execution_count": null,
   "id": "1a1bd36c-dae9-4f87-9d32-17679f047b92",
   "metadata": {},
   "outputs": [],
   "source": []
  }
 ],
 "metadata": {
  "kernelspec": {
   "display_name": "Python 3 (ipykernel)",
   "language": "python",
   "name": "python3"
  },
  "language_info": {
   "codemirror_mode": {
    "name": "ipython",
    "version": 3
   },
   "file_extension": ".py",
   "mimetype": "text/x-python",
   "name": "python",
   "nbconvert_exporter": "python",
   "pygments_lexer": "ipython3",
   "version": "3.12.7"
  }
 },
 "nbformat": 4,
 "nbformat_minor": 5
}
